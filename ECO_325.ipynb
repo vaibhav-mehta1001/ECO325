{
  "nbformat": 4,
  "nbformat_minor": 0,
  "metadata": {
    "colab": {
      "provenance": []
    },
    "kernelspec": {
      "name": "python3",
      "display_name": "Python 3"
    },
    "language_info": {
      "name": "python"
    }
  },
  "cells": [
    {
      "cell_type": "code",
      "source": [
        "import pandas as pd\n",
        "price_det = pd.read_csv('/content/regression_for_price.csv',thousands=',')\n",
        "price_det.head()\n",
        "price_det = price_det.reset_index() "
      ],
      "metadata": {
        "id": "VTNsX_zyG0Of"
      },
      "execution_count": null,
      "outputs": []
    },
    {
      "cell_type": "code",
      "source": [],
      "metadata": {
        "id": "7vAWSWEPeqLx"
      },
      "execution_count": null,
      "outputs": []
    },
    {
      "cell_type": "code",
      "source": [
        "import statsmodels.api as sm\n",
        "import numpy as np\n",
        "# price_det = price_det.astype(int)\n",
        "#'Export Value', 'Production'\n",
        "x = price_det[['Area',\t\t'Yield',  'Export Qty.',\t'Export Per/Kg Cost',\t'Qt. Sold at Auction']]\n",
        "y = price_det['Price/Kg At Auction']\n",
        "print(x)\n",
        "# with sklearn\n",
        "# regr = linear_model.LinearRegression()\n",
        "# # regr.fit(x, y)\n",
        "\n",
        "# print('Intercept: \\n', regr.intercept_)\n",
        "# print('Coefficients: \\n', regr.coef_)\n",
        "\n",
        "# with statsmodels\n",
        "x = sm.add_constant(x) # adding a constant\n",
        "# print(price_det.dtypes)\n",
        "model = sm.OLS(y, x).fit()\n",
        "predictions = model.predict(x) \n",
        " \n",
        "print_model = model.summary()\n",
        "print(print_model)\n"
      ],
      "metadata": {
        "id": "UntL0k9nKT2E"
      },
      "execution_count": null,
      "outputs": []
    },
    {
      "cell_type": "code",
      "source": [
        "import pandas as pd\n",
        "price_det = pd.read_csv('/content/e_auction_regress_final (3).csv',thousands=',')\n",
        "\n",
        "price_det.head()\n",
        "price_det.columns = price_det.columns.str.replace(' ', '')\n",
        "price_det.columns = price_det.columns.str.replace('.', '')\n",
        "price_det.columns = price_det.columns.str.replace('-', '')\n",
        "price_det.columns = price_det.columns.str.replace('(', '')\n",
        "price_det.columns = price_det.columns.str.replace(')', '')\n",
        "\n",
        "price_det.head()\n"
      ],
      "metadata": {
        "id": "ftxiFEaGSQVi",
        "colab": {
          "base_uri": "https://localhost:8080/",
          "height": 330
        },
        "outputId": "bf476e86-b80b-4556-e479-4233292bd465"
      },
      "execution_count": 5,
      "outputs": [
        {
          "output_type": "stream",
          "name": "stderr",
          "text": [
            "<ipython-input-5-5c3f845128ba>:7: FutureWarning: The default value of regex will change from True to False in a future version. In addition, single character regular expressions will *not* be treated as literal strings when regex=True.\n",
            "  price_det.columns = price_det.columns.str.replace('.', '')\n",
            "<ipython-input-5-5c3f845128ba>:9: FutureWarning: The default value of regex will change from True to False in a future version. In addition, single character regular expressions will *not* be treated as literal strings when regex=True.\n",
            "  price_det.columns = price_det.columns.str.replace('(', '')\n",
            "<ipython-input-5-5c3f845128ba>:10: FutureWarning: The default value of regex will change from True to False in a future version. In addition, single character regular expressions will *not* be treated as literal strings when regex=True.\n",
            "  price_det.columns = price_det.columns.str.replace(')', '')\n"
          ]
        },
        {
          "output_type": "execute_result",
          "data": {
            "text/plain": [
              "   Unnamed:0  SaleNo  LotsOffered  QuantityofTeaSoldThKgs  AveragePriceRs  \\\n",
              "0          0     1.0         3475                 2538.11          116.88   \n",
              "1          1     2.0         3382                 2606.86          116.74   \n",
              "2          2     3.0         3578                 2809.28          115.10   \n",
              "3          3     4.0         3545                 2713.73          113.55   \n",
              "4          4     5.0         3219                 2324.31          110.59   \n",
              "\n",
              "   EAuction  \n",
              "0         0  \n",
              "1         0  \n",
              "2         0  \n",
              "3         0  \n",
              "4         0  "
            ],
            "text/html": [
              "\n",
              "  <div id=\"df-91aad3b1-490f-4d11-8539-a3511ded1adf\">\n",
              "    <div class=\"colab-df-container\">\n",
              "      <div>\n",
              "<style scoped>\n",
              "    .dataframe tbody tr th:only-of-type {\n",
              "        vertical-align: middle;\n",
              "    }\n",
              "\n",
              "    .dataframe tbody tr th {\n",
              "        vertical-align: top;\n",
              "    }\n",
              "\n",
              "    .dataframe thead th {\n",
              "        text-align: right;\n",
              "    }\n",
              "</style>\n",
              "<table border=\"1\" class=\"dataframe\">\n",
              "  <thead>\n",
              "    <tr style=\"text-align: right;\">\n",
              "      <th></th>\n",
              "      <th>Unnamed:0</th>\n",
              "      <th>SaleNo</th>\n",
              "      <th>LotsOffered</th>\n",
              "      <th>QuantityofTeaSoldThKgs</th>\n",
              "      <th>AveragePriceRs</th>\n",
              "      <th>EAuction</th>\n",
              "    </tr>\n",
              "  </thead>\n",
              "  <tbody>\n",
              "    <tr>\n",
              "      <th>0</th>\n",
              "      <td>0</td>\n",
              "      <td>1.0</td>\n",
              "      <td>3475</td>\n",
              "      <td>2538.11</td>\n",
              "      <td>116.88</td>\n",
              "      <td>0</td>\n",
              "    </tr>\n",
              "    <tr>\n",
              "      <th>1</th>\n",
              "      <td>1</td>\n",
              "      <td>2.0</td>\n",
              "      <td>3382</td>\n",
              "      <td>2606.86</td>\n",
              "      <td>116.74</td>\n",
              "      <td>0</td>\n",
              "    </tr>\n",
              "    <tr>\n",
              "      <th>2</th>\n",
              "      <td>2</td>\n",
              "      <td>3.0</td>\n",
              "      <td>3578</td>\n",
              "      <td>2809.28</td>\n",
              "      <td>115.10</td>\n",
              "      <td>0</td>\n",
              "    </tr>\n",
              "    <tr>\n",
              "      <th>3</th>\n",
              "      <td>3</td>\n",
              "      <td>4.0</td>\n",
              "      <td>3545</td>\n",
              "      <td>2713.73</td>\n",
              "      <td>113.55</td>\n",
              "      <td>0</td>\n",
              "    </tr>\n",
              "    <tr>\n",
              "      <th>4</th>\n",
              "      <td>4</td>\n",
              "      <td>5.0</td>\n",
              "      <td>3219</td>\n",
              "      <td>2324.31</td>\n",
              "      <td>110.59</td>\n",
              "      <td>0</td>\n",
              "    </tr>\n",
              "  </tbody>\n",
              "</table>\n",
              "</div>\n",
              "      <button class=\"colab-df-convert\" onclick=\"convertToInteractive('df-91aad3b1-490f-4d11-8539-a3511ded1adf')\"\n",
              "              title=\"Convert this dataframe to an interactive table.\"\n",
              "              style=\"display:none;\">\n",
              "        \n",
              "  <svg xmlns=\"http://www.w3.org/2000/svg\" height=\"24px\"viewBox=\"0 0 24 24\"\n",
              "       width=\"24px\">\n",
              "    <path d=\"M0 0h24v24H0V0z\" fill=\"none\"/>\n",
              "    <path d=\"M18.56 5.44l.94 2.06.94-2.06 2.06-.94-2.06-.94-.94-2.06-.94 2.06-2.06.94zm-11 1L8.5 8.5l.94-2.06 2.06-.94-2.06-.94L8.5 2.5l-.94 2.06-2.06.94zm10 10l.94 2.06.94-2.06 2.06-.94-2.06-.94-.94-2.06-.94 2.06-2.06.94z\"/><path d=\"M17.41 7.96l-1.37-1.37c-.4-.4-.92-.59-1.43-.59-.52 0-1.04.2-1.43.59L10.3 9.45l-7.72 7.72c-.78.78-.78 2.05 0 2.83L4 21.41c.39.39.9.59 1.41.59.51 0 1.02-.2 1.41-.59l7.78-7.78 2.81-2.81c.8-.78.8-2.07 0-2.86zM5.41 20L4 18.59l7.72-7.72 1.47 1.35L5.41 20z\"/>\n",
              "  </svg>\n",
              "      </button>\n",
              "      \n",
              "  <style>\n",
              "    .colab-df-container {\n",
              "      display:flex;\n",
              "      flex-wrap:wrap;\n",
              "      gap: 12px;\n",
              "    }\n",
              "\n",
              "    .colab-df-convert {\n",
              "      background-color: #E8F0FE;\n",
              "      border: none;\n",
              "      border-radius: 50%;\n",
              "      cursor: pointer;\n",
              "      display: none;\n",
              "      fill: #1967D2;\n",
              "      height: 32px;\n",
              "      padding: 0 0 0 0;\n",
              "      width: 32px;\n",
              "    }\n",
              "\n",
              "    .colab-df-convert:hover {\n",
              "      background-color: #E2EBFA;\n",
              "      box-shadow: 0px 1px 2px rgba(60, 64, 67, 0.3), 0px 1px 3px 1px rgba(60, 64, 67, 0.15);\n",
              "      fill: #174EA6;\n",
              "    }\n",
              "\n",
              "    [theme=dark] .colab-df-convert {\n",
              "      background-color: #3B4455;\n",
              "      fill: #D2E3FC;\n",
              "    }\n",
              "\n",
              "    [theme=dark] .colab-df-convert:hover {\n",
              "      background-color: #434B5C;\n",
              "      box-shadow: 0px 1px 3px 1px rgba(0, 0, 0, 0.15);\n",
              "      filter: drop-shadow(0px 1px 2px rgba(0, 0, 0, 0.3));\n",
              "      fill: #FFFFFF;\n",
              "    }\n",
              "  </style>\n",
              "\n",
              "      <script>\n",
              "        const buttonEl =\n",
              "          document.querySelector('#df-91aad3b1-490f-4d11-8539-a3511ded1adf button.colab-df-convert');\n",
              "        buttonEl.style.display =\n",
              "          google.colab.kernel.accessAllowed ? 'block' : 'none';\n",
              "\n",
              "        async function convertToInteractive(key) {\n",
              "          const element = document.querySelector('#df-91aad3b1-490f-4d11-8539-a3511ded1adf');\n",
              "          const dataTable =\n",
              "            await google.colab.kernel.invokeFunction('convertToInteractive',\n",
              "                                                     [key], {});\n",
              "          if (!dataTable) return;\n",
              "\n",
              "          const docLinkHtml = 'Like what you see? Visit the ' +\n",
              "            '<a target=\"_blank\" href=https://colab.research.google.com/notebooks/data_table.ipynb>data table notebook</a>'\n",
              "            + ' to learn more about interactive tables.';\n",
              "          element.innerHTML = '';\n",
              "          dataTable['output_type'] = 'display_data';\n",
              "          await google.colab.output.renderOutput(dataTable, element);\n",
              "          const docLink = document.createElement('div');\n",
              "          docLink.innerHTML = docLinkHtml;\n",
              "          element.appendChild(docLink);\n",
              "        }\n",
              "      </script>\n",
              "    </div>\n",
              "  </div>\n",
              "  "
            ]
          },
          "metadata": {},
          "execution_count": 5
        }
      ]
    },
    {
      "cell_type": "code",
      "source": [
        "# for index, row in price_det.iterrows():\n",
        "#     if row['EAuction'] == 0:\n",
        "#        row['Price/Kg At Auction'] = row['AveragePriceRs'] + 80.12\n",
        "# price_det.head()\n",
        "price_det.loc[price_det[\"EAuction\"] == 1, 'AveragePriceRs'] += 10.12"
      ],
      "metadata": {
        "id": "PMCSEcL2hBDU"
      },
      "execution_count": null,
      "outputs": []
    },
    {
      "cell_type": "code",
      "source": [
        "from statsmodels.formula.api import ols\n",
        "\n",
        "model = ols('AveragePriceRs ~ LotsOffered + QuantityofTeaSoldThKgs +  C(EAuction)', data=price_det).fit()\n"
      ],
      "metadata": {
        "id": "HOW0qIqZXlJF"
      },
      "execution_count": 2,
      "outputs": []
    },
    {
      "cell_type": "code",
      "source": [],
      "metadata": {
        "id": "f9rgGGxFnW2A"
      },
      "execution_count": null,
      "outputs": []
    },
    {
      "cell_type": "code",
      "source": [
        "model.summary()"
      ],
      "metadata": {
        "id": "JODafTl7aBEc"
      },
      "execution_count": null,
      "outputs": []
    },
    {
      "cell_type": "code",
      "source": [
        "non_eauc = price_det.drop(price_det.index[price_det['EAuction'] == 1])\n",
        "\n"
      ],
      "metadata": {
        "id": "QNAvM5YcaBLi"
      },
      "execution_count": null,
      "outputs": []
    },
    {
      "cell_type": "code",
      "source": [
        "e_auc = price_det.drop(price_det.index[price_det['EAuction'] == 0])\n"
      ],
      "metadata": {
        "id": "t5jN_1VpnhQw"
      },
      "execution_count": null,
      "outputs": []
    },
    {
      "cell_type": "code",
      "source": [
        "price_det.to_csv('e_auction_regress_final.csv') "
      ],
      "metadata": {
        "id": "knZ75Qdtk5f5"
      },
      "execution_count": 6,
      "outputs": []
    },
    {
      "cell_type": "code",
      "source": [
        "def av(lst):\n",
        "    return sum(lst) / len(lst)\n"
      ],
      "metadata": {
        "id": "Sh5iZnrYeBmc"
      },
      "execution_count": null,
      "outputs": []
    },
    {
      "cell_type": "code",
      "source": [
        "e_auc_bids = list(e_auc['AveragePriceRs'])\n",
        "ne_auc_bids = list(non_eauc['AveragePriceRs'])\n",
        "av(e_auc_bids)"
      ],
      "metadata": {
        "id": "pGPLXa0Xpneu",
        "colab": {
          "base_uri": "https://localhost:8080/"
        },
        "outputId": "77b58649-e1a2-430a-ee70-e0fecc379cc9"
      },
      "execution_count": null,
      "outputs": [
        {
          "output_type": "execute_result",
          "data": {
            "text/plain": [
              "173.7620716412214"
            ]
          },
          "metadata": {},
          "execution_count": 90
        }
      ]
    },
    {
      "cell_type": "code",
      "source": [
        "av(ne_auc_bids)"
      ],
      "metadata": {
        "colab": {
          "base_uri": "https://localhost:8080/"
        },
        "id": "zNX81sRmeNrF",
        "outputId": "9aceb6d7-aa1e-4083-c460-0f2ed167f59b"
      },
      "execution_count": null,
      "outputs": [
        {
          "output_type": "execute_result",
          "data": {
            "text/plain": [
              "143.77618051807227"
            ]
          },
          "metadata": {},
          "execution_count": 91
        }
      ]
    },
    {
      "cell_type": "code",
      "source": [
        "kde = sm.nonparametric.KDEUnivariate(e_auc_bids)\n",
        "kde.fit()  # Estimate the densities\n",
        "kde_non_e = sm.nonparametric.KDEUnivariate(ne_auc_bids)\n",
        "kde_non_e.fit()  # Estimate the densities\n"
      ],
      "metadata": {
        "colab": {
          "base_uri": "https://localhost:8080/"
        },
        "id": "Xftba3ZNp0VO",
        "outputId": "a8264982-34ff-4228-c797-2fe6b8911183"
      },
      "execution_count": null,
      "outputs": [
        {
          "output_type": "execute_result",
          "data": {
            "text/plain": [
              "<statsmodels.nonparametric.kde.KDEUnivariate at 0x7fe4aa45efa0>"
            ]
          },
          "metadata": {},
          "execution_count": 70
        }
      ]
    },
    {
      "cell_type": "code",
      "source": [],
      "metadata": {
        "id": "eO8d7z-hqrAt"
      },
      "execution_count": null,
      "outputs": []
    },
    {
      "cell_type": "code",
      "source": [
        "len(non_eauc.head())\n",
        "e_auc"
      ],
      "metadata": {
        "colab": {
          "base_uri": "https://localhost:8080/",
          "height": 424
        },
        "id": "fuduVcaUnu74",
        "outputId": "d1a84b0b-cb73-4e09-f97d-0261d37e45bd"
      },
      "execution_count": null,
      "outputs": [
        {
          "output_type": "execute_result",
          "data": {
            "text/plain": [
              "     SaleNo  LotsOffered  QuantityofTeaSoldThKgs  AveragePriceRs  EAuction  \\\n",
              "48      1.0         1481              920.470000       95.820000         1   \n",
              "49      2.0         1688             1044.380000       97.560000         1   \n",
              "50      3.0         1833             1044.130000      101.530000         1   \n",
              "51      4.0         1230              740.420000      106.350000         1   \n",
              "52      5.0         1768              815.530000      107.310000         1   \n",
              "..      ...          ...                     ...             ...       ...   \n",
              "290     NaN         1463             1663.322699      264.922026         1   \n",
              "291     NaN         1070             1592.184887      245.993298         1   \n",
              "293     NaN         1170             2044.689284       10.120000         1   \n",
              "295     NaN         1139             2573.258390      242.332968         1   \n",
              "296     NaN         1067             2429.315620      254.708719         1   \n",
              "\n",
              "     Japanese  \n",
              "48          0  \n",
              "49          0  \n",
              "50          0  \n",
              "51          0  \n",
              "52          0  \n",
              "..        ...  \n",
              "290         1  \n",
              "291         1  \n",
              "293         1  \n",
              "295         1  \n",
              "296         1  \n",
              "\n",
              "[131 rows x 6 columns]"
            ],
            "text/html": [
              "\n",
              "  <div id=\"df-190d5356-e4cc-46e6-bfe6-5d1f27577dd4\">\n",
              "    <div class=\"colab-df-container\">\n",
              "      <div>\n",
              "<style scoped>\n",
              "    .dataframe tbody tr th:only-of-type {\n",
              "        vertical-align: middle;\n",
              "    }\n",
              "\n",
              "    .dataframe tbody tr th {\n",
              "        vertical-align: top;\n",
              "    }\n",
              "\n",
              "    .dataframe thead th {\n",
              "        text-align: right;\n",
              "    }\n",
              "</style>\n",
              "<table border=\"1\" class=\"dataframe\">\n",
              "  <thead>\n",
              "    <tr style=\"text-align: right;\">\n",
              "      <th></th>\n",
              "      <th>SaleNo</th>\n",
              "      <th>LotsOffered</th>\n",
              "      <th>QuantityofTeaSoldThKgs</th>\n",
              "      <th>AveragePriceRs</th>\n",
              "      <th>EAuction</th>\n",
              "      <th>Japanese</th>\n",
              "    </tr>\n",
              "  </thead>\n",
              "  <tbody>\n",
              "    <tr>\n",
              "      <th>48</th>\n",
              "      <td>1.0</td>\n",
              "      <td>1481</td>\n",
              "      <td>920.470000</td>\n",
              "      <td>95.820000</td>\n",
              "      <td>1</td>\n",
              "      <td>0</td>\n",
              "    </tr>\n",
              "    <tr>\n",
              "      <th>49</th>\n",
              "      <td>2.0</td>\n",
              "      <td>1688</td>\n",
              "      <td>1044.380000</td>\n",
              "      <td>97.560000</td>\n",
              "      <td>1</td>\n",
              "      <td>0</td>\n",
              "    </tr>\n",
              "    <tr>\n",
              "      <th>50</th>\n",
              "      <td>3.0</td>\n",
              "      <td>1833</td>\n",
              "      <td>1044.130000</td>\n",
              "      <td>101.530000</td>\n",
              "      <td>1</td>\n",
              "      <td>0</td>\n",
              "    </tr>\n",
              "    <tr>\n",
              "      <th>51</th>\n",
              "      <td>4.0</td>\n",
              "      <td>1230</td>\n",
              "      <td>740.420000</td>\n",
              "      <td>106.350000</td>\n",
              "      <td>1</td>\n",
              "      <td>0</td>\n",
              "    </tr>\n",
              "    <tr>\n",
              "      <th>52</th>\n",
              "      <td>5.0</td>\n",
              "      <td>1768</td>\n",
              "      <td>815.530000</td>\n",
              "      <td>107.310000</td>\n",
              "      <td>1</td>\n",
              "      <td>0</td>\n",
              "    </tr>\n",
              "    <tr>\n",
              "      <th>...</th>\n",
              "      <td>...</td>\n",
              "      <td>...</td>\n",
              "      <td>...</td>\n",
              "      <td>...</td>\n",
              "      <td>...</td>\n",
              "      <td>...</td>\n",
              "    </tr>\n",
              "    <tr>\n",
              "      <th>290</th>\n",
              "      <td>NaN</td>\n",
              "      <td>1463</td>\n",
              "      <td>1663.322699</td>\n",
              "      <td>264.922026</td>\n",
              "      <td>1</td>\n",
              "      <td>1</td>\n",
              "    </tr>\n",
              "    <tr>\n",
              "      <th>291</th>\n",
              "      <td>NaN</td>\n",
              "      <td>1070</td>\n",
              "      <td>1592.184887</td>\n",
              "      <td>245.993298</td>\n",
              "      <td>1</td>\n",
              "      <td>1</td>\n",
              "    </tr>\n",
              "    <tr>\n",
              "      <th>293</th>\n",
              "      <td>NaN</td>\n",
              "      <td>1170</td>\n",
              "      <td>2044.689284</td>\n",
              "      <td>10.120000</td>\n",
              "      <td>1</td>\n",
              "      <td>1</td>\n",
              "    </tr>\n",
              "    <tr>\n",
              "      <th>295</th>\n",
              "      <td>NaN</td>\n",
              "      <td>1139</td>\n",
              "      <td>2573.258390</td>\n",
              "      <td>242.332968</td>\n",
              "      <td>1</td>\n",
              "      <td>1</td>\n",
              "    </tr>\n",
              "    <tr>\n",
              "      <th>296</th>\n",
              "      <td>NaN</td>\n",
              "      <td>1067</td>\n",
              "      <td>2429.315620</td>\n",
              "      <td>254.708719</td>\n",
              "      <td>1</td>\n",
              "      <td>1</td>\n",
              "    </tr>\n",
              "  </tbody>\n",
              "</table>\n",
              "<p>131 rows × 6 columns</p>\n",
              "</div>\n",
              "      <button class=\"colab-df-convert\" onclick=\"convertToInteractive('df-190d5356-e4cc-46e6-bfe6-5d1f27577dd4')\"\n",
              "              title=\"Convert this dataframe to an interactive table.\"\n",
              "              style=\"display:none;\">\n",
              "        \n",
              "  <svg xmlns=\"http://www.w3.org/2000/svg\" height=\"24px\"viewBox=\"0 0 24 24\"\n",
              "       width=\"24px\">\n",
              "    <path d=\"M0 0h24v24H0V0z\" fill=\"none\"/>\n",
              "    <path d=\"M18.56 5.44l.94 2.06.94-2.06 2.06-.94-2.06-.94-.94-2.06-.94 2.06-2.06.94zm-11 1L8.5 8.5l.94-2.06 2.06-.94-2.06-.94L8.5 2.5l-.94 2.06-2.06.94zm10 10l.94 2.06.94-2.06 2.06-.94-2.06-.94-.94-2.06-.94 2.06-2.06.94z\"/><path d=\"M17.41 7.96l-1.37-1.37c-.4-.4-.92-.59-1.43-.59-.52 0-1.04.2-1.43.59L10.3 9.45l-7.72 7.72c-.78.78-.78 2.05 0 2.83L4 21.41c.39.39.9.59 1.41.59.51 0 1.02-.2 1.41-.59l7.78-7.78 2.81-2.81c.8-.78.8-2.07 0-2.86zM5.41 20L4 18.59l7.72-7.72 1.47 1.35L5.41 20z\"/>\n",
              "  </svg>\n",
              "      </button>\n",
              "      \n",
              "  <style>\n",
              "    .colab-df-container {\n",
              "      display:flex;\n",
              "      flex-wrap:wrap;\n",
              "      gap: 12px;\n",
              "    }\n",
              "\n",
              "    .colab-df-convert {\n",
              "      background-color: #E8F0FE;\n",
              "      border: none;\n",
              "      border-radius: 50%;\n",
              "      cursor: pointer;\n",
              "      display: none;\n",
              "      fill: #1967D2;\n",
              "      height: 32px;\n",
              "      padding: 0 0 0 0;\n",
              "      width: 32px;\n",
              "    }\n",
              "\n",
              "    .colab-df-convert:hover {\n",
              "      background-color: #E2EBFA;\n",
              "      box-shadow: 0px 1px 2px rgba(60, 64, 67, 0.3), 0px 1px 3px 1px rgba(60, 64, 67, 0.15);\n",
              "      fill: #174EA6;\n",
              "    }\n",
              "\n",
              "    [theme=dark] .colab-df-convert {\n",
              "      background-color: #3B4455;\n",
              "      fill: #D2E3FC;\n",
              "    }\n",
              "\n",
              "    [theme=dark] .colab-df-convert:hover {\n",
              "      background-color: #434B5C;\n",
              "      box-shadow: 0px 1px 3px 1px rgba(0, 0, 0, 0.15);\n",
              "      filter: drop-shadow(0px 1px 2px rgba(0, 0, 0, 0.3));\n",
              "      fill: #FFFFFF;\n",
              "    }\n",
              "  </style>\n",
              "\n",
              "      <script>\n",
              "        const buttonEl =\n",
              "          document.querySelector('#df-190d5356-e4cc-46e6-bfe6-5d1f27577dd4 button.colab-df-convert');\n",
              "        buttonEl.style.display =\n",
              "          google.colab.kernel.accessAllowed ? 'block' : 'none';\n",
              "\n",
              "        async function convertToInteractive(key) {\n",
              "          const element = document.querySelector('#df-190d5356-e4cc-46e6-bfe6-5d1f27577dd4');\n",
              "          const dataTable =\n",
              "            await google.colab.kernel.invokeFunction('convertToInteractive',\n",
              "                                                     [key], {});\n",
              "          if (!dataTable) return;\n",
              "\n",
              "          const docLinkHtml = 'Like what you see? Visit the ' +\n",
              "            '<a target=\"_blank\" href=https://colab.research.google.com/notebooks/data_table.ipynb>data table notebook</a>'\n",
              "            + ' to learn more about interactive tables.';\n",
              "          element.innerHTML = '';\n",
              "          dataTable['output_type'] = 'display_data';\n",
              "          await google.colab.output.renderOutput(dataTable, element);\n",
              "          const docLink = document.createElement('div');\n",
              "          docLink.innerHTML = docLinkHtml;\n",
              "          element.appendChild(docLink);\n",
              "        }\n",
              "      </script>\n",
              "    </div>\n",
              "  </div>\n",
              "  "
            ]
          },
          "metadata": {},
          "execution_count": 71
        }
      ]
    },
    {
      "cell_type": "code",
      "source": [
        "%matplotlib inline\n",
        "import numpy as np\n",
        "from scipy import stats\n",
        "import statsmodels.api as sm\n",
        "import matplotlib.pyplot as plt\n",
        "from statsmodels.distributions.mixture_rvs import mixture_rvs\n"
      ],
      "metadata": {
        "id": "tZtKMGehpOYe"
      },
      "execution_count": null,
      "outputs": []
    },
    {
      "cell_type": "code",
      "source": [
        "fig = plt.figure(figsize=(12, 5))\n",
        "ax = fig.add_subplot(111)\n",
        "\n",
        "ax.plot(kde.support, kde.density, lw=3, label=\"KDE from samples\", zorder=10)\n",
        "# lines = ax.hist(ne_auc_bids, bins=20, edgecolor=\"k\", label=\"Histogram\")\n"
      ],
      "metadata": {
        "colab": {
          "base_uri": "https://localhost:8080/",
          "height": 337
        },
        "id": "QhTLK8lXpP38",
        "outputId": "f5dbebbc-da7a-4be5-881c-c1cf6bc694c9"
      },
      "execution_count": null,
      "outputs": [
        {
          "output_type": "execute_result",
          "data": {
            "text/plain": [
              "[<matplotlib.lines.Line2D at 0x7fe4a9b56490>]"
            ]
          },
          "metadata": {},
          "execution_count": 78
        },
        {
          "output_type": "display_data",
          "data": {
            "text/plain": [
              "<Figure size 864x360 with 1 Axes>"
            ],
            "image/png": "[encoded data removed]"
          },
          "metadata": {
            "needs_background": "light"
          }
        }
      ]
    },
    {
      "cell_type": "code",
      "source": [
        "fig = plt.figure(figsize=(12, 5))\n",
        "ax = fig.add_subplot(111)\n",
        "\n",
        "ax.plot(kde_non_e.support, kde_non_e.density, lw=3, label=\"KDE from samples\", zorder=10)\n"
      ],
      "metadata": {
        "colab": {
          "base_uri": "https://localhost:8080/",
          "height": 337
        },
        "id": "jRBtU7OoqQJ0",
        "outputId": "187eb9ba-b33d-4512-f960-58fca1f45f42"
      },
      "execution_count": null,
      "outputs": [
        {
          "output_type": "execute_result",
          "data": {
            "text/plain": [
              "[<matplotlib.lines.Line2D at 0x7fe4a9aaaee0>]"
            ]
          },
          "metadata": {},
          "execution_count": 79
        },
        {
          "output_type": "display_data",
          "data": {
            "text/plain": [
              "<Figure size 864x360 with 1 Axes>"
            ],
            "image/png": "[encoded data removed]"
          },
          "metadata": {
            "needs_background": "light"
          }
        }
      ]
    },
    {
      "cell_type": "code",
      "source": [
        "from scipy.stats import wasserstein_distance\n",
        "wasserstein_distance(kde_non_e.support, kde.support)"
      ],
      "metadata": {
        "colab": {
          "base_uri": "https://localhost:8080/"
        },
        "id": "P6s2m1CaqsIE",
        "outputId": "7291c7b9-d706-4302-efb0-03190e4658e4"
      },
      "execution_count": null,
      "outputs": [
        {
          "output_type": "execute_result",
          "data": {
            "text/plain": [
              "17.15827428836638"
            ]
          },
          "metadata": {},
          "execution_count": 76
        }
      ]
    }
  ]
}